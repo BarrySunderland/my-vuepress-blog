{
 "cells": [
  {
   "cell_type": "markdown",
   "metadata": {},
   "source": [
    "---\n",
    "title: 'Embedding Interactive Bokeh Plots in Static Sites'  \n",
    "lang: 'en-uk'  \n",
    "tags:\n",
    "  - visualisation\n",
    "  - jupyter notebooks\n",
    "  - python\n",
    "  - bokeh\n",
    "---\n",
    "\n",
    "# Embedding Interactive Bokeh Plots in Static Sites\n",
    "\n",
    "Bokeh is a great tool in the python data science stack that gives you the capability to create modern interactive plots and dashboards, but without the need to write any javascript. Even from the comfort of a jupyter notebook.  \n",
    "\n",
    "But how do we get these plots out of our notebooks and into the hands of users and colleagues?\n",
    "\n",
    "If your plot is static like the majority of bokeh plots (i.e. it doesn't need to make calls to bokeh server for updates) then Bokeh has some built in functions for generating stand alone html & html files that make this very easy. There are two main options depending on your use\n",
    "\n",
    "## Static Bokeh - as a static file\n",
    "\n",
    "For the first use case we'll use the excellent example plot of the periodic table from the [bokeh gallery](https://docs.bokeh.org/en/latest/docs/gallery/periodic.html) and embed this as a static file in our site. All we have to have to do is run the provided script which saves all of the elements needed to create the plot in a browser (data, links to css & javscript etc.) to a file called `\"periodic.html\"`  in the current directory.\n",
    "\n"
   ]
  },
  {
   "cell_type": "code",
   "execution_count": 1,
   "metadata": {},
   "outputs": [],
   "source": [
    "from bokeh.io import output_file, show\n",
    "from bokeh.plotting import figure\n",
    "from bokeh.sampledata.periodic_table import elements\n",
    "from bokeh.transform import dodge, factor_cmap\n",
    "\n",
    "output_file(\"periodic.html\")\n",
    "\n",
    "periods = [\"I\", \"II\", \"III\", \"IV\", \"V\", \"VI\", \"VII\"]\n",
    "groups = [str(x) for x in range(1, 19)]\n",
    "\n",
    "df = elements.copy()\n",
    "df[\"atomic mass\"] = df[\"atomic mass\"].astype(str)\n",
    "df[\"group\"] = df[\"group\"].astype(str)\n",
    "df[\"period\"] = [periods[x-1] for x in df.period]\n",
    "df = df[df.group != \"-\"]\n",
    "df = df[df.symbol != \"Lr\"]\n",
    "df = df[df.symbol != \"Lu\"]\n",
    "\n",
    "cmap = {\n",
    "    \"alkali metal\"         : \"#a6cee3\",\n",
    "    \"alkaline earth metal\" : \"#1f78b4\",\n",
    "    \"metal\"                : \"#d93b43\",\n",
    "    \"halogen\"              : \"#999d9a\",\n",
    "    \"metalloid\"            : \"#e08d49\",\n",
    "    \"noble gas\"            : \"#eaeaea\",\n",
    "    \"nonmetal\"             : \"#f1d4Af\",\n",
    "    \"transition metal\"     : \"#599d7A\",\n",
    "}\n",
    "\n",
    "TOOLTIPS = [\n",
    "    (\"Name\", \"@name\"),\n",
    "    (\"Atomic number\", \"@{atomic number}\"),\n",
    "    (\"Atomic mass\", \"@{atomic mass}\"),\n",
    "    (\"Type\", \"@metal\"),\n",
    "    (\"CPK color\", \"$color[hex, swatch]:CPK\"),\n",
    "    (\"Electronic configuration\", \"@{electronic configuration}\"),\n",
    "]\n",
    "\n",
    "p = figure(title=\"Periodic Table (omitting LA and AC Series)\", plot_width=1000, plot_height=450,\n",
    "           x_range=groups, y_range=list(reversed(periods)),\n",
    "           tools=\"hover\", toolbar_location=None, tooltips=TOOLTIPS)\n",
    "\n",
    "r = p.rect(\"group\", \"period\", 0.95, 0.95, source=df, fill_alpha=0.6, legend_field=\"metal\",\n",
    "           color=factor_cmap('metal', palette=list(cmap.values()), factors=list(cmap.keys())))\n",
    "\n",
    "text_props = {\"source\": df, \"text_align\": \"left\", \"text_baseline\": \"middle\"}\n",
    "\n",
    "x = dodge(\"group\", -0.4, range=p.x_range)\n",
    "\n",
    "p.text(x=x, y=\"period\", text=\"symbol\", text_font_style=\"bold\", **text_props)\n",
    "\n",
    "p.text(x=x, y=dodge(\"period\", 0.3, range=p.y_range), text=\"atomic number\",\n",
    "       text_font_size=\"11px\", **text_props)\n",
    "\n",
    "p.text(x=x, y=dodge(\"period\", -0.35, range=p.y_range), text=\"name\",\n",
    "       text_font_size=\"7px\", **text_props)\n",
    "\n",
    "p.text(x=x, y=dodge(\"period\", -0.2, range=p.y_range), text=\"atomic mass\",\n",
    "       text_font_size=\"7px\", **text_props)\n",
    "\n",
    "p.text(x=[\"3\", \"3\"], y=[\"VI\", \"VII\"], text=[\"LA\", \"AC\"], text_align=\"center\", text_baseline=\"middle\")\n",
    "\n",
    "p.outline_line_color = None\n",
    "p.grid.grid_line_color = None\n",
    "p.axis.axis_line_color = None\n",
    "p.axis.major_tick_line_color = None\n",
    "p.axis.major_label_standoff = 0\n",
    "p.legend.orientation = \"horizontal\"\n",
    "p.legend.location =\"top_center\"\n",
    "p.hover.renderers = [r] # only hover element boxes\n",
    "\n",
    "show(p)"
   ]
  },
  {
   "cell_type": "markdown",
   "metadata": {},
   "source": [
    "We can then copy this html file to a directory that our front end can find (usually somewhere inside the `/public`  folder for static websites). And inside our webpage, add an embed element with a path to the file. \n",
    "\n",
    "for example:\n",
    "\n",
    "```md \n",
    "<embed \n",
    "       type=\"text/html\" \n",
    "       src=\"/bokeh/periodic.html\"\n",
    "       width=\"1100\"\n",
    "       height=\"600\"\n",
    "       >\n",
    "</embed>\n",
    "```\n",
    "\n",
    "The width and height need to be defined as the element will not autosize for the content. But unlike in the markdown conversion of jupyter notebook which won't display a plot, we should now be able to see our bokeh plot.\n",
    "\n",
    "<embed \n",
    "       type=\"text/html\" \n",
    "       src=\"/bokeh/periodic.html\"\n",
    "       width=\"1100\"\n",
    "       height=\"600\"\n",
    "       >\n",
    "</embed>"
   ]
  },
  {
   "cell_type": "markdown",
   "metadata": {},
   "source": [
    "## Static Bokeh - as an API response\n",
    "\n",
    "Another use case is if you have an API or a Flask website and want to return a Bokeh plot as part of a response. This gives the option of incorporating the latest data or having some filtering, basically allowing you to create the bokeh plot on the fly.\n",
    "\n",
    "The function to use in this case is ```file_html()``` from bokeh.embed . This accepts a bokeh plot as an argument and returns all the html needed to make that plot as a string. More details in the [Bokeh docs](https://docs.bokeh.org/en/latest/docs/reference/embed.html#bokeh.embed.file_html).\n",
    "\n",
    "The other required argument is resources which specify the css and javascript files to use for the plot. The convenient way to include this is by the CDN object which lists all of the latest links to Bokeh's content delivery network.\n",
    "\n",
    "So assuming we have the code above to generate the plot `p` we can just switch out the elements below."
   ]
  },
  {
   "cell_type": "code",
   "execution_count": 2,
   "metadata": {},
   "outputs": [],
   "source": [
    "from bokeh.resources import CDN\n",
    "from bokeh.embed import file_html"
   ]
  },
  {
   "cell_type": "code",
   "execution_count": 3,
   "metadata": {},
   "outputs": [
    {
     "name": "stdout",
     "output_type": "stream",
     "text": [
      "\n",
      "\n",
      "\n",
      "\n",
      "<!DOCTYPE html>\n",
      "<html lang=\"en\">\n",
      "  \n",
      "  <head>\n",
      "    \n",
      "      <meta charset=\"utf-8\">\n",
      "      <title>periodic table</title>\n",
      "      \n",
      "      \n",
      "        \n",
      "          \n",
      "        \n",
      "        \n",
      "          \n",
      "        <script type=\"text/javascript\" src=\"https://cdn.bokeh.org/bokeh/release/bokeh-2.1.1.min.js\" integrity=\"sha384-kLr4fYcqcSpbuI95brIH3vnnYCquzzSxHPU6XGQCIkQRGJwhg0\n"
     ]
    }
   ],
   "source": [
    "title = \"periodic table\"\n",
    "p_html_str = file_html(p, CDN, title)\n",
    "\n",
    "# As we can see, we have all the text for a standalone html file\n",
    "print(p_html_str[:350])"
   ]
  },
  {
   "cell_type": "markdown",
   "metadata": {},
   "source": [
    "Then you just have to include this string in the response object.  \n",
    "Getting the data out of the database and into the hands of the people who want it. \n",
    "\n",
    "Hope this helps you build something cool.\n"
   ]
  }
 ],
 "metadata": {
  "kernelspec": {
   "display_name": "Python 3",
   "language": "python",
   "name": "python3"
  },
  "language_info": {
   "codemirror_mode": {
    "name": "ipython",
    "version": 3
   },
   "file_extension": ".py",
   "mimetype": "text/x-python",
   "name": "python",
   "nbconvert_exporter": "python",
   "pygments_lexer": "ipython3",
   "version": "3.8.3"
  }
 },
 "nbformat": 4,
 "nbformat_minor": 4
}
